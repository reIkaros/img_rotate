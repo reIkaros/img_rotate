{
 "metadata": {
  "language_info": {
   "codemirror_mode": {
    "name": "ipython",
    "version": 3
   },
   "file_extension": ".py",
   "mimetype": "text/x-python",
   "name": "python",
   "nbconvert_exporter": "python",
   "pygments_lexer": "ipython3",
   "version": "3.6.8"
  },
  "orig_nbformat": 4,
  "kernelspec": {
   "name": "python3",
   "display_name": "Python 3.6.8 64-bit ('opencv_venv': venv)"
  },
  "interpreter": {
   "hash": "7028cad4c29d7ef147c2eaf919ae4a064adebd37523f06e747ae0125b534fea6"
  }
 },
 "nbformat": 4,
 "nbformat_minor": 2,
 "cells": [
  {
   "cell_type": "code",
   "execution_count": 14,
   "metadata": {},
   "outputs": [],
   "source": [
    "import cv2 as cv\n",
    "import numpy as np\n",
    "import math"
   ]
  },
  {
   "cell_type": "code",
   "execution_count": 28,
   "metadata": {},
   "outputs": [],
   "source": [
    "def lines_in_img(fname):\n",
    "    src = cv.imread(fname, cv.IMREAD_GRAYSCALE) \n",
    "    final = cv.imread(fname, cv.IMREAD_COLOR) \n",
    "\n",
    "    #очистка от шумов\n",
    "    im_bw = cv.adaptiveThreshold(src, 255, cv.ADAPTIVE_THRESH_GAUSSIAN_C, cv.THRESH_BINARY, 11, 10)\n",
    "\n",
    "    #изменение размера\n",
    "    final_wide = 200 \n",
    "    r = float(final_wide) / src.shape[1]\n",
    "    dim = (final_wide, int(src.shape[0] * r))\n",
    "    resized = cv.resize(im_bw, dim, interpolation = cv.INTER_AREA)\n",
    "\n",
    "    #выделение границ Кэнни\n",
    "    dst = cv.Canny(resized,400,100)\n",
    "\n",
    "    cdst = cv.cvtColor(dst, cv.COLOR_GRAY2BGR) \n",
    "    cdstP = np.copy(cdst) \n",
    "\n",
    "    #преобразование Хаффа\n",
    "    lines = cv.HoughLines(dst, 1, np.pi / 120, 100, None, 0, 0)\n",
    "\n",
    "    coner_array = [] \n",
    "    if lines is not None: \n",
    "        for i in range(0, len(lines)): \n",
    "            rho = lines[i][0][0] \n",
    "            theta = lines[i][0][1] \n",
    "            a = math.cos(theta) \n",
    "            b = math.sin(theta) \n",
    "            x0 = a * rho \n",
    "            y0 = b * rho \n",
    "            pt1 = (int(x0 + 1000*(-b)), int(y0 + 1000*(a))) \n",
    "            pt2 = (int(x0 - 1000*(-b)), int(y0 - 1000*(a))) \n",
    "            cv.line(cdst, pt1, pt2, (0,0,255), 1, cv.LINE_AA) \n",
    "\n",
    "        linesP = cv.HoughLinesP(dst, 1, np.pi / 180, 50, None, 20, 10)\n",
    "\n",
    "        if linesP is not None: \n",
    "            for i in range(0, len(linesP)): \n",
    "                l = linesP[i][0] \n",
    "                cv.line(cdstP, (l[0], l[1]), (l[2], l[3]), (0,0,255), 1, cv.LINE_AA) \n",
    "                coner_array.append(math.degrees(math.atan((l[3]-l[1])/(l[2]-l[0]))))\n",
    "\n",
    "        coner=np.mean(coner_array) \n",
    "        (h, w) = src.shape[:2] \n",
    "        center = (w / 2, h / 2)  \n",
    "        M = cv.getRotationMatrix2D(center, coner, 1.0) \n",
    "        binrotated = cv.warpAffine(src, M, (w, h),  borderMode=cv.BORDER_REPLICATE) \n",
    "        rotated = cv.warpAffine(final, M, (w, h),  borderMode=cv.BORDER_REPLICATE) \n",
    "\n",
    "        cv.imwrite('rotated_'+fname, rotated) "
   ]
  },
  {
   "cell_type": "code",
   "execution_count": 29,
   "metadata": {},
   "outputs": [],
   "source": [
    "lines_in_img('example2.jpg')"
   ]
  },
  {
   "cell_type": "code",
   "execution_count": null,
   "metadata": {},
   "outputs": [],
   "source": []
  }
 ]
}