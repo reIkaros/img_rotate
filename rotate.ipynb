{
 "cells": [
  {
   "cell_type": "code",
   "execution_count": 13,
   "metadata": {},
   "outputs": [],
   "source": [
    "import cv2 as cv\r\n",
    "import numpy as np\r\n",
    "import math\r\n",
    "\r\n",
    "def img_rotate(fname, fname_pr):\r\n",
    "    src = cv.imread(fname, cv.IMREAD_GRAYSCALE) \r\n",
    "    final = cv.imread(fname, cv.IMREAD_COLOR) \r\n",
    "\r\n",
    "    #очистка от шумов\r\n",
    "    im_bw = cv.adaptiveThreshold(src, 255, cv.ADAPTIVE_THRESH_GAUSSIAN_C, cv.THRESH_BINARY, 11, 10)\r\n",
    "\r\n",
    "    #изменение размера\r\n",
    "    final_wide = 200 \r\n",
    "    r = float(final_wide) / src.shape[1]\r\n",
    "    dim = (final_wide, int(src.shape[0] * r))\r\n",
    "    resized = cv.resize(im_bw, dim, interpolation = cv.INTER_AREA)\r\n",
    "\r\n",
    "    #выделение границ Кэнни\r\n",
    "    dst = cv.Canny(resized,400,100)\r\n",
    "\r\n",
    "    cdst = cv.cvtColor(dst, cv.COLOR_GRAY2BGR) \r\n",
    "    cdstP = np.copy(cdst) \r\n",
    "\r\n",
    "    #преобразование Хаффа\r\n",
    "    lines = cv.HoughLines(dst, 1, np.pi / 120, 100, None, 0, 0)\r\n",
    "\r\n",
    "    coner_array = [] \r\n",
    "    if lines is not None: \r\n",
    "        for i in range(0, len(lines)): \r\n",
    "            rho = lines[i][0][0] \r\n",
    "            theta = lines[i][0][1] \r\n",
    "            a = math.cos(theta) \r\n",
    "            b = math.sin(theta) \r\n",
    "            x0 = a * rho \r\n",
    "            y0 = b * rho \r\n",
    "            pt1 = (int(x0 + 1000*(-b)), int(y0 + 1000*(a))) \r\n",
    "            pt2 = (int(x0 - 1000*(-b)), int(y0 - 1000*(a))) \r\n",
    "            cv.line(cdst, pt1, pt2, (0,0,255), 1, cv.LINE_AA) \r\n",
    "\r\n",
    "        linesP = cv.HoughLinesP(dst, 1, np.pi / 180, 50, None, 20, 10)\r\n",
    "\r\n",
    "        if linesP is not None: \r\n",
    "            for i in range(0, len(linesP)): \r\n",
    "                l = linesP[i][0] \r\n",
    "                cv.line(cdstP, (l[0], l[1]), (l[2], l[3]), (0,0,255), 1, cv.LINE_AA) \r\n",
    "                coner_array.append(math.degrees(math.atan((l[3]-l[1])/(l[2]-l[0]))))\r\n",
    "\r\n",
    "        coner=np.mean(coner_array) \r\n",
    "        (h, w) = src.shape[:2] \r\n",
    "        center = (w / 2, h / 2)  \r\n",
    "        M = cv.getRotationMatrix2D(center, coner, 1.0) \r\n",
    "        binrotated = cv.warpAffine(src, M, (w, h),  borderMode=cv.BORDER_REPLICATE) \r\n",
    "        rotated = cv.warpAffine(final, M, (w, h),  borderMode=cv.BORDER_REPLICATE) \r\n",
    "\r\n",
    "        cv.imwrite(fname_pr, rotated) "
   ]
  },
  {
   "cell_type": "code",
   "execution_count": 14,
   "metadata": {},
   "outputs": [],
   "source": []
  },
  {
   "cell_type": "code",
   "execution_count": null,
   "metadata": {},
   "outputs": [],
   "source": []
  }
 ],
 "metadata": {
  "interpreter": {
   "hash": "7028cad4c29d7ef147c2eaf919ae4a064adebd37523f06e747ae0125b534fea6"
  },
  "kernelspec": {
   "display_name": "Python 3.6.8 64-bit ('opencv_venv': venv)",
   "name": "python3"
  },
  "language_info": {
   "codemirror_mode": {
    "name": "ipython",
    "version": 3
   },
   "file_extension": ".py",
   "mimetype": "text/x-python",
   "name": "python",
   "nbconvert_exporter": "python",
   "pygments_lexer": "ipython3",
   "version": "3.6.8"
  },
  "orig_nbformat": 4
 },
 "nbformat": 4,
 "nbformat_minor": 2
}
